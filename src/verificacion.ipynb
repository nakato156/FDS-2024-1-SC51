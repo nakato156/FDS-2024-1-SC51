version https://git-lfs.github.com/spec/v1
oid sha256:833c13ffd292f7af7dd5aca6db46ccca66762be2b713c4d8b27ff730e991eecd
size 207236
