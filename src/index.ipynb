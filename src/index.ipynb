version https://git-lfs.github.com/spec/v1
oid sha256:34676a0cb4091e13df9ebd82a9663d10f23470b76c63a8e6c2becd426951b522
size 523579
