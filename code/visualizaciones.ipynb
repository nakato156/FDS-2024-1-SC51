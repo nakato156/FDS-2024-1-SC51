version https://git-lfs.github.com/spec/v1
oid sha256:c015cbf0b4b57159863bdda92e7f3f65ee9b80b7e72b4cdef3a63176d261a842
size 581949
